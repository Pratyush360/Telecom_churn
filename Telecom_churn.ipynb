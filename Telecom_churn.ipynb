{
 "cells": [
  {
   "cell_type": "markdown",
   "metadata": {},
   "source": [
    "### Import Libraries"
   ]
  },
  {
   "cell_type": "code",
   "execution_count": 1,
   "metadata": {
    "_cell_guid": "b1076dfc-b9ad-4769-8c92-a6c4dae69d19",
    "_uuid": "8f2839f25d086af736a60e9eeb907d3b93b6e0e5",
    "execution": {
     "iopub.execute_input": "2021-10-27T16:11:11.492968Z",
     "iopub.status.busy": "2021-10-27T16:11:11.492600Z",
     "iopub.status.idle": "2021-10-27T16:11:13.691672Z",
     "shell.execute_reply": "2021-10-27T16:11:13.691019Z",
     "shell.execute_reply.started": "2021-10-27T16:11:11.492866Z"
    }
   },
   "outputs": [],
   "source": [
    "# Suppressing Warnings\n",
    "import warnings\n",
    "warnings.filterwarnings('ignore')\n",
    "\n",
    "import pandas as pd\n",
    "import numpy as np\n",
    "import matplotlib.pyplot as plt\n",
    "import seaborn as sns\n",
    "import statsmodels.api as sm\n",
    "\n",
    "from xgboost import XGBClassifier\n",
    "\n",
    "from sklearn.preprocessing import StandardScaler\n",
    "from sklearn.decomposition import PCA\n",
    "from sklearn.svm import SVC\n",
    "from sklearn.model_selection import train_test_split, GridSearchCV\n",
    "from sklearn.feature_selection import RFE\n",
    "from statsmodels.stats.outliers_influence import variance_inflation_factor\n",
    "from sklearn.linear_model import LogisticRegression\n",
    "from sklearn.ensemble import RandomForestClassifier\n",
    "from sklearn.metrics import classification_report\n",
    "from sklearn.metrics import confusion_matrix, accuracy_score, precision_score, recall_score, roc_auc_score,f1_score\n",
    "from imblearn.over_sampling import RandomOverSampler, SMOTE\n",
    "\n",
    "pd.set_option('display.max_columns', 500)"
   ]
  },
  {
   "cell_type": "code",
   "execution_count": 2,
   "metadata": {
    "execution": {
     "iopub.execute_input": "2021-10-27T16:11:13.694148Z",
     "iopub.status.busy": "2021-10-27T16:11:13.693312Z",
     "iopub.status.idle": "2021-10-27T16:11:16.978767Z",
     "shell.execute_reply": "2021-10-27T16:11:16.977827Z",
     "shell.execute_reply.started": "2021-10-27T16:11:13.694106Z"
    }
   },
   "outputs": [],
   "source": [
    "df_churn = pd.read_csv(\"../input/telcom-churn/telecom_churn_data.csv\")"
   ]
  },
  {
   "cell_type": "markdown",
   "metadata": {},
   "source": [
    "### Extract high value customers"
   ]
  },
  {
   "cell_type": "code",
   "execution_count": 3,
   "metadata": {
    "execution": {
     "iopub.execute_input": "2021-10-27T16:11:16.980810Z",
     "iopub.status.busy": "2021-10-27T16:11:16.980174Z",
     "iopub.status.idle": "2021-10-27T16:11:16.985057Z",
     "shell.execute_reply": "2021-10-27T16:11:16.984207Z",
     "shell.execute_reply.started": "2021-10-27T16:11:16.980762Z"
    }
   },
   "outputs": [],
   "source": [
    "col = ['total_rech_data_6','av_rech_amt_data_6','total_rech_data_7',\n",
    "       'total_rech_data_8','av_rech_amt_data_7','av_rech_amt_data_8']"
   ]
  },
  {
   "cell_type": "code",
   "execution_count": 4,
   "metadata": {
    "execution": {
     "iopub.execute_input": "2021-10-27T16:11:16.987375Z",
     "iopub.status.busy": "2021-10-27T16:11:16.986545Z",
     "iopub.status.idle": "2021-10-27T16:11:17.019079Z",
     "shell.execute_reply": "2021-10-27T16:11:17.018038Z",
     "shell.execute_reply.started": "2021-10-27T16:11:16.987334Z"
    }
   },
   "outputs": [],
   "source": [
    "df_churn[col] = df_churn[col].fillna(0)"
   ]
  },
  {
   "cell_type": "code",
   "execution_count": 5,
   "metadata": {
    "execution": {
     "iopub.execute_input": "2021-10-27T16:11:17.022415Z",
     "iopub.status.busy": "2021-10-27T16:11:17.022155Z",
     "iopub.status.idle": "2021-10-27T16:11:17.034733Z",
     "shell.execute_reply": "2021-10-27T16:11:17.033818Z",
     "shell.execute_reply.started": "2021-10-27T16:11:17.022385Z"
    }
   },
   "outputs": [],
   "source": [
    "df_churn['total_rech_data_amt_6'] = (df_churn['total_rech_data_6']*df_churn['av_rech_amt_data_6']) +df_churn['total_rech_amt_6']\n",
    "df_churn['total_rech_data_amt_7'] = (df_churn['total_rech_data_7']*df_churn['av_rech_amt_data_7']) +df_churn['total_rech_amt_7']\n",
    "df_churn['total_rech_data_amt_8'] = (df_churn['total_rech_data_8']*df_churn['av_rech_amt_data_8']) +df_churn['total_rech_amt_8']"
   ]
  },
  {
   "cell_type": "code",
   "execution_count": 6,
   "metadata": {
    "execution": {
     "iopub.execute_input": "2021-10-27T16:11:17.036294Z",
     "iopub.status.busy": "2021-10-27T16:11:17.036041Z",
     "iopub.status.idle": "2021-10-27T16:11:17.043387Z",
     "shell.execute_reply": "2021-10-27T16:11:17.042251Z",
     "shell.execute_reply.started": "2021-10-27T16:11:17.036265Z"
    }
   },
   "outputs": [],
   "source": [
    "df_churn['total_avg_amt_6_7'] = (df_churn['total_rech_data_amt_6']+df_churn['total_rech_data_amt_7'])/2"
   ]
  },
  {
   "cell_type": "code",
   "execution_count": 7,
   "metadata": {
    "execution": {
     "iopub.execute_input": "2021-10-27T16:11:17.045934Z",
     "iopub.status.busy": "2021-10-27T16:11:17.045239Z",
     "iopub.status.idle": "2021-10-27T16:11:17.195475Z",
     "shell.execute_reply": "2021-10-27T16:11:17.194458Z",
     "shell.execute_reply.started": "2021-10-27T16:11:17.045894Z"
    }
   },
   "outputs": [],
   "source": [
    "df_churn = df_churn[df_churn['total_avg_amt_6_7']>np.percentile(df_churn['total_avg_amt_6_7'],70)]"
   ]
  },
  {
   "cell_type": "code",
   "execution_count": 8,
   "metadata": {
    "execution": {
     "iopub.execute_input": "2021-10-27T16:11:17.197099Z",
     "iopub.status.busy": "2021-10-27T16:11:17.196766Z",
     "iopub.status.idle": "2021-10-27T16:11:17.222075Z",
     "shell.execute_reply": "2021-10-27T16:11:17.221084Z",
     "shell.execute_reply.started": "2021-10-27T16:11:17.197067Z"
    }
   },
   "outputs": [],
   "source": [
    "df_churn = df_churn.drop('total_avg_amt_6_7', axis=1)"
   ]
  },
  {
   "cell_type": "code",
   "execution_count": 9,
   "metadata": {
    "execution": {
     "iopub.execute_input": "2021-10-27T16:11:17.224152Z",
     "iopub.status.busy": "2021-10-27T16:11:17.223835Z",
     "iopub.status.idle": "2021-10-27T16:11:17.237242Z",
     "shell.execute_reply": "2021-10-27T16:11:17.236296Z",
     "shell.execute_reply.started": "2021-10-27T16:11:17.224109Z"
    }
   },
   "outputs": [],
   "source": [
    "df_churn.shape"
   ]
  },
  {
   "cell_type": "markdown",
   "metadata": {},
   "source": [
    "### Remove all columns for September month"
   ]
  },
  {
   "cell_type": "code",
   "execution_count": 10,
   "metadata": {
    "execution": {
     "iopub.execute_input": "2021-10-27T16:11:17.238978Z",
     "iopub.status.busy": "2021-10-27T16:11:17.238352Z",
     "iopub.status.idle": "2021-10-27T16:11:17.247261Z",
     "shell.execute_reply": "2021-10-27T16:11:17.246669Z",
     "shell.execute_reply.started": "2021-10-27T16:11:17.238942Z"
    }
   },
   "outputs": [],
   "source": [
    "col = ['total_ic_mou_9','total_og_mou_9','vol_2g_mb_9','vol_3g_mb_9']"
   ]
  },
  {
   "cell_type": "code",
   "execution_count": 11,
   "metadata": {
    "execution": {
     "iopub.execute_input": "2021-10-27T16:11:17.248949Z",
     "iopub.status.busy": "2021-10-27T16:11:17.248418Z",
     "iopub.status.idle": "2021-10-27T16:11:17.675903Z",
     "shell.execute_reply": "2021-10-27T16:11:17.675067Z",
     "shell.execute_reply.started": "2021-10-27T16:11:17.248912Z"
    }
   },
   "outputs": [],
   "source": [
    "df_churn['churned'] = df_churn[col].apply(lambda x:1 if (x[0]+x[1]+x[2]+x[3])==0 else 0, axis=1)"
   ]
  },
  {
   "cell_type": "code",
   "execution_count": 12,
   "metadata": {
    "execution": {
     "iopub.execute_input": "2021-10-27T16:11:17.677259Z",
     "iopub.status.busy": "2021-10-27T16:11:17.677013Z",
     "iopub.status.idle": "2021-10-27T16:11:17.687357Z",
     "shell.execute_reply": "2021-10-27T16:11:17.686559Z",
     "shell.execute_reply.started": "2021-10-27T16:11:17.677232Z"
    }
   },
   "outputs": [],
   "source": [
    "df_churn['churned'].value_counts()"
   ]
  },
  {
   "cell_type": "code",
   "execution_count": 13,
   "metadata": {
    "execution": {
     "iopub.execute_input": "2021-10-27T16:11:17.689901Z",
     "iopub.status.busy": "2021-10-27T16:11:17.689140Z",
     "iopub.status.idle": "2021-10-27T16:11:17.717239Z",
     "shell.execute_reply": "2021-10-27T16:11:17.716635Z",
     "shell.execute_reply.started": "2021-10-27T16:11:17.689862Z"
    }
   },
   "outputs": [],
   "source": [
    "drop_sept_col = df_churn.columns[df_churn.columns.str.contains('_9')]\n",
    "df_churn = df_churn.drop(drop_sept_col, axis=1)"
   ]
  },
  {
   "cell_type": "markdown",
   "metadata": {},
   "source": [
    "#### Drop columns with single unique value"
   ]
  },
  {
   "cell_type": "code",
   "execution_count": 14,
   "metadata": {
    "execution": {
     "iopub.execute_input": "2021-10-27T16:11:17.720761Z",
     "iopub.status.busy": "2021-10-27T16:11:17.720234Z",
     "iopub.status.idle": "2021-10-27T16:11:17.941445Z",
     "shell.execute_reply": "2021-10-27T16:11:17.940830Z",
     "shell.execute_reply.started": "2021-10-27T16:11:17.720715Z"
    }
   },
   "outputs": [],
   "source": [
    "value_count_col = pd.DataFrame({'columns':df_churn.columns})\n",
    "\n",
    "for col in df_churn.columns:\n",
    "    value_count_col.loc[value_count_col['columns']==col,'unique values'] = df_churn[col].nunique()"
   ]
  },
  {
   "cell_type": "code",
   "execution_count": 15,
   "metadata": {
    "execution": {
     "iopub.execute_input": "2021-10-27T16:11:17.942806Z",
     "iopub.status.busy": "2021-10-27T16:11:17.942559Z",
     "iopub.status.idle": "2021-10-27T16:11:17.965014Z",
     "shell.execute_reply": "2021-10-27T16:11:17.964022Z",
     "shell.execute_reply.started": "2021-10-27T16:11:17.942776Z"
    }
   },
   "outputs": [],
   "source": [
    "col_with_unique_value = value_count_col[value_count_col['unique values']==1]['columns']\n",
    "df_churn = df_churn.drop(col_with_unique_value, axis=1)\n",
    "df_churn.shape"
   ]
  },
  {
   "cell_type": "markdown",
   "metadata": {},
   "source": [
    "#### Drop columns with 40% missing value"
   ]
  },
  {
   "cell_type": "code",
   "execution_count": 16,
   "metadata": {
    "execution": {
     "iopub.execute_input": "2021-10-27T16:11:17.967145Z",
     "iopub.status.busy": "2021-10-27T16:11:17.966822Z",
     "iopub.status.idle": "2021-10-27T16:11:18.003255Z",
     "shell.execute_reply": "2021-10-27T16:11:18.002391Z",
     "shell.execute_reply.started": "2021-10-27T16:11:17.967094Z"
    }
   },
   "outputs": [],
   "source": [
    "miss_per_col = df_churn.isnull().sum()/len(df_churn)\n",
    "df_churn = df_churn.drop(miss_per_col.index[miss_per_col>.4], axis=1)"
   ]
  },
  {
   "cell_type": "markdown",
   "metadata": {},
   "source": [
    "#### Convert to correct datatype"
   ]
  },
  {
   "cell_type": "code",
   "execution_count": 17,
   "metadata": {
    "execution": {
     "iopub.execute_input": "2021-10-27T16:11:18.005153Z",
     "iopub.status.busy": "2021-10-27T16:11:18.004656Z",
     "iopub.status.idle": "2021-10-27T16:11:18.021451Z",
     "shell.execute_reply": "2021-10-27T16:11:18.020774Z",
     "shell.execute_reply.started": "2021-10-27T16:11:18.005104Z"
    }
   },
   "outputs": [],
   "source": [
    "cat_var = df_churn.select_dtypes(include='object')\n",
    "cat_var.head()"
   ]
  },
  {
   "cell_type": "code",
   "execution_count": 18,
   "metadata": {
    "execution": {
     "iopub.execute_input": "2021-10-27T16:11:18.023357Z",
     "iopub.status.busy": "2021-10-27T16:11:18.022891Z",
     "iopub.status.idle": "2021-10-27T16:11:18.056663Z",
     "shell.execute_reply": "2021-10-27T16:11:18.055979Z",
     "shell.execute_reply.started": "2021-10-27T16:11:18.023325Z"
    }
   },
   "outputs": [],
   "source": [
    "for col in cat_var:\n",
    "    df_churn[col] = pd.to_datetime(df_churn[col])"
   ]
  },
  {
   "cell_type": "code",
   "execution_count": 19,
   "metadata": {
    "execution": {
     "iopub.execute_input": "2021-10-27T16:11:18.058194Z",
     "iopub.status.busy": "2021-10-27T16:11:18.057504Z",
     "iopub.status.idle": "2021-10-27T16:11:18.485905Z",
     "shell.execute_reply": "2021-10-27T16:11:18.484984Z",
     "shell.execute_reply.started": "2021-10-27T16:11:18.058156Z"
    }
   },
   "outputs": [],
   "source": [
    "df_churn[cat_var.columns] = df_churn[cat_var.columns].fillna(0)"
   ]
  },
  {
   "cell_type": "code",
   "execution_count": 20,
   "metadata": {
    "execution": {
     "iopub.execute_input": "2021-10-27T16:11:18.487573Z",
     "iopub.status.busy": "2021-10-27T16:11:18.487245Z",
     "iopub.status.idle": "2021-10-27T16:11:18.537940Z",
     "shell.execute_reply": "2021-10-27T16:11:18.537196Z",
     "shell.execute_reply.started": "2021-10-27T16:11:18.487531Z"
    }
   },
   "outputs": [],
   "source": [
    "df_churn['date_of_last_rech_6'] = df_churn['date_of_last_rech_6'].apply(lambda x: x.day if x!=0 else x)\n",
    "df_churn['date_of_last_rech_7'] = df_churn['date_of_last_rech_7'].apply(lambda x: x.day if x!=0 else x)\n",
    "df_churn['date_of_last_rech_8'] = df_churn['date_of_last_rech_8'].apply(lambda x: x.day if x!=0 else x)"
   ]
  },
  {
   "cell_type": "markdown",
   "metadata": {},
   "source": [
    "### Data Visualisation"
   ]
  },
  {
   "cell_type": "code",
   "execution_count": 21,
   "metadata": {
    "execution": {
     "iopub.execute_input": "2021-10-27T16:11:18.539851Z",
     "iopub.status.busy": "2021-10-27T16:11:18.539338Z",
     "iopub.status.idle": "2021-10-27T16:11:18.547616Z",
     "shell.execute_reply": "2021-10-27T16:11:18.546854Z",
     "shell.execute_reply.started": "2021-10-27T16:11:18.539808Z"
    }
   },
   "outputs": [],
   "source": [
    "# create box plot for  6th, 7th and 8th month\n",
    "def plot_box_chart(attribute):\n",
    "    plt.figure(figsize=(15,10))\n",
    "    plt.subplot(2,3,1)\n",
    "    sns.boxplot(data=df_churn, y=attribute+\"_6\",x=\"churned\",hue=\"churned\",\n",
    "                showfliers=False,palette=(\"plasma\"))\n",
    "    plt.subplot(2,3,2)\n",
    "    sns.boxplot(data=df_churn, y=attribute+\"_7\",x=\"churned\",hue=\"churned\",\n",
    "                showfliers=False,palette=(\"plasma\"))\n",
    "    plt.subplot(2,3,3)\n",
    "    sns.boxplot(data=df_churn, y=attribute+\"_8\",x=\"churned\",hue=\"churned\",\n",
    "                showfliers=False,palette=(\"plasma\"))\n",
    "    plt.show()"
   ]
  },
  {
   "cell_type": "code",
   "execution_count": 22,
   "metadata": {
    "execution": {
     "iopub.execute_input": "2021-10-27T16:11:18.549453Z",
     "iopub.status.busy": "2021-10-27T16:11:18.549163Z",
     "iopub.status.idle": "2021-10-27T16:11:19.075641Z",
     "shell.execute_reply": "2021-10-27T16:11:19.074950Z",
     "shell.execute_reply.started": "2021-10-27T16:11:18.549415Z"
    }
   },
   "outputs": [],
   "source": [
    "plot_box_chart('date_of_last_rech')"
   ]
  },
  {
   "cell_type": "code",
   "execution_count": 23,
   "metadata": {
    "execution": {
     "iopub.execute_input": "2021-10-27T16:11:19.077826Z",
     "iopub.status.busy": "2021-10-27T16:11:19.076993Z",
     "iopub.status.idle": "2021-10-27T16:11:19.593218Z",
     "shell.execute_reply": "2021-10-27T16:11:19.592308Z",
     "shell.execute_reply.started": "2021-10-27T16:11:19.077790Z"
    }
   },
   "outputs": [],
   "source": [
    "# Ploting for total recharge amount:\n",
    "plot_box_chart('total_rech_amt')"
   ]
  },
  {
   "cell_type": "code",
   "execution_count": 24,
   "metadata": {
    "execution": {
     "iopub.execute_input": "2021-10-27T16:11:19.594621Z",
     "iopub.status.busy": "2021-10-27T16:11:19.594401Z",
     "iopub.status.idle": "2021-10-27T16:11:20.231527Z",
     "shell.execute_reply": "2021-10-27T16:11:20.230927Z",
     "shell.execute_reply.started": "2021-10-27T16:11:19.594594Z"
    }
   },
   "outputs": [],
   "source": [
    "# Ploting for total recharge amount for data:\n",
    "plot_box_chart('total_rech_data_amt')"
   ]
  },
  {
   "cell_type": "code",
   "execution_count": 25,
   "metadata": {
    "execution": {
     "iopub.execute_input": "2021-10-27T16:11:20.233078Z",
     "iopub.status.busy": "2021-10-27T16:11:20.232716Z",
     "iopub.status.idle": "2021-10-27T16:11:20.774033Z",
     "shell.execute_reply": "2021-10-27T16:11:20.773212Z",
     "shell.execute_reply.started": "2021-10-27T16:11:20.233038Z"
    }
   },
   "outputs": [],
   "source": [
    "# Ploting for maximum recharge amount for data:\n",
    "plot_box_chart('max_rech_amt')"
   ]
  },
  {
   "cell_type": "code",
   "execution_count": 26,
   "metadata": {
    "execution": {
     "iopub.execute_input": "2021-10-27T16:11:20.775950Z",
     "iopub.status.busy": "2021-10-27T16:11:20.775298Z",
     "iopub.status.idle": "2021-10-27T16:11:21.266698Z",
     "shell.execute_reply": "2021-10-27T16:11:21.265921Z",
     "shell.execute_reply.started": "2021-10-27T16:11:20.775911Z"
    }
   },
   "outputs": [],
   "source": [
    "# Ploting for Total recharge for Number:\n",
    "plot_box_chart('total_rech_num')"
   ]
  },
  {
   "cell_type": "code",
   "execution_count": 27,
   "metadata": {
    "execution": {
     "iopub.execute_input": "2021-10-27T16:11:21.267960Z",
     "iopub.status.busy": "2021-10-27T16:11:21.267739Z",
     "iopub.status.idle": "2021-10-27T16:11:21.772003Z",
     "shell.execute_reply": "2021-10-27T16:11:21.771146Z",
     "shell.execute_reply.started": "2021-10-27T16:11:21.267933Z"
    }
   },
   "outputs": [],
   "source": [
    "# Ploting for last day recharge amount:\n",
    "plot_box_chart('last_day_rch_amt')"
   ]
  },
  {
   "cell_type": "code",
   "execution_count": 28,
   "metadata": {
    "execution": {
     "iopub.execute_input": "2021-10-27T16:11:21.774166Z",
     "iopub.status.busy": "2021-10-27T16:11:21.773639Z",
     "iopub.status.idle": "2021-10-27T16:11:21.781938Z",
     "shell.execute_reply": "2021-10-27T16:11:21.781129Z",
     "shell.execute_reply.started": "2021-10-27T16:11:21.774123Z"
    }
   },
   "outputs": [],
   "source": [
    "usage_2g_and_3g = df_churn.columns[df_churn.columns.str.contains('2g|3g',regex=True)]\n",
    "usage_2g_and_3g"
   ]
  },
  {
   "cell_type": "code",
   "execution_count": 29,
   "metadata": {
    "execution": {
     "iopub.execute_input": "2021-10-27T16:11:21.783682Z",
     "iopub.status.busy": "2021-10-27T16:11:21.783362Z",
     "iopub.status.idle": "2021-10-27T16:11:21.804386Z",
     "shell.execute_reply": "2021-10-27T16:11:21.803591Z",
     "shell.execute_reply.started": "2021-10-27T16:11:21.783643Z"
    }
   },
   "outputs": [],
   "source": [
    "df_churn = df_churn.drop('sep_vbc_3g', axis=1)"
   ]
  },
  {
   "cell_type": "code",
   "execution_count": 30,
   "metadata": {
    "execution": {
     "iopub.execute_input": "2021-10-27T16:11:21.805907Z",
     "iopub.status.busy": "2021-10-27T16:11:21.805694Z",
     "iopub.status.idle": "2021-10-27T16:11:22.287067Z",
     "shell.execute_reply": "2021-10-27T16:11:22.286187Z",
     "shell.execute_reply.started": "2021-10-27T16:11:21.805882Z"
    }
   },
   "outputs": [],
   "source": [
    "# Ploting for volume of 2G and 3G usage columns:\n",
    "plot_box_chart('vol_2g_mb')"
   ]
  },
  {
   "cell_type": "code",
   "execution_count": 31,
   "metadata": {
    "execution": {
     "iopub.execute_input": "2021-10-27T16:11:22.289177Z",
     "iopub.status.busy": "2021-10-27T16:11:22.288438Z",
     "iopub.status.idle": "2021-10-27T16:11:22.738194Z",
     "shell.execute_reply": "2021-10-27T16:11:22.737382Z",
     "shell.execute_reply.started": "2021-10-27T16:11:22.289139Z"
    }
   },
   "outputs": [],
   "source": [
    "# Ploting for volume of 2G and 3G usage columns:\n",
    "plot_box_chart('vol_3g_mb')"
   ]
  },
  {
   "cell_type": "code",
   "execution_count": 32,
   "metadata": {
    "execution": {
     "iopub.execute_input": "2021-10-27T16:11:22.739904Z",
     "iopub.status.busy": "2021-10-27T16:11:22.739670Z",
     "iopub.status.idle": "2021-10-27T16:11:22.746541Z",
     "shell.execute_reply": "2021-10-27T16:11:22.745224Z",
     "shell.execute_reply.started": "2021-10-27T16:11:22.739876Z"
    }
   },
   "outputs": [],
   "source": [
    "def plot_mean_bar_chart(df,columns_list):\n",
    "    df_0 = df[df.churned==0].filter(columns_list)\n",
    "    df_1 = df[df.churned==1].filter(columns_list)\n",
    "    \n",
    "    mean_df_0 = pd.DataFrame([df_0.mean()],index={'Non Churn'})\n",
    "    mean_df_1 = pd.DataFrame([df_1.mean()],index={'Churn'})\n",
    "    \n",
    "    frames = [mean_df_0, mean_df_1]\n",
    "    mean_bar = pd.concat(frames)\n",
    "\n",
    "    mean_bar.T.plot.bar(figsize=(10,4),rot=0)\n",
    "    plt.show()"
   ]
  },
  {
   "cell_type": "code",
   "execution_count": 33,
   "metadata": {
    "execution": {
     "iopub.execute_input": "2021-10-27T16:11:22.750554Z",
     "iopub.status.busy": "2021-10-27T16:11:22.750071Z",
     "iopub.status.idle": "2021-10-27T16:11:22.758074Z",
     "shell.execute_reply": "2021-10-27T16:11:22.757187Z",
     "shell.execute_reply.started": "2021-10-27T16:11:22.750523Z"
    }
   },
   "outputs": [],
   "source": [
    "col = ['monthly_2g_6', 'monthly_2g_7', 'monthly_2g_8', 'monthly_3g_6', 'monthly_3g_7', 'monthly_3g_8']"
   ]
  },
  {
   "cell_type": "code",
   "execution_count": 34,
   "metadata": {
    "execution": {
     "iopub.execute_input": "2021-10-27T16:11:22.759850Z",
     "iopub.status.busy": "2021-10-27T16:11:22.759504Z",
     "iopub.status.idle": "2021-10-27T16:11:23.019453Z",
     "shell.execute_reply": "2021-10-27T16:11:23.018565Z",
     "shell.execute_reply.started": "2021-10-27T16:11:22.759814Z"
    }
   },
   "outputs": [],
   "source": [
    "plot_mean_bar_chart(df_churn,col)"
   ]
  },
  {
   "cell_type": "code",
   "execution_count": 35,
   "metadata": {
    "execution": {
     "iopub.execute_input": "2021-10-27T16:11:23.021693Z",
     "iopub.status.busy": "2021-10-27T16:11:23.020850Z",
     "iopub.status.idle": "2021-10-27T16:11:23.240922Z",
     "shell.execute_reply": "2021-10-27T16:11:23.240062Z",
     "shell.execute_reply.started": "2021-10-27T16:11:23.021655Z"
    }
   },
   "outputs": [],
   "source": [
    "col = ['jun_vbc_3g', 'jul_vbc_3g', 'aug_vbc_3g']\n",
    "plot_mean_bar_chart(df_churn,col)"
   ]
  },
  {
   "cell_type": "code",
   "execution_count": 36,
   "metadata": {
    "execution": {
     "iopub.execute_input": "2021-10-27T16:11:23.242238Z",
     "iopub.status.busy": "2021-10-27T16:11:23.242017Z",
     "iopub.status.idle": "2021-10-27T16:11:23.486043Z",
     "shell.execute_reply": "2021-10-27T16:11:23.483574Z",
     "shell.execute_reply.started": "2021-10-27T16:11:23.242213Z"
    }
   },
   "outputs": [],
   "source": [
    "col = ['sachet_2g_6', 'sachet_2g_7', 'sachet_2g_8', 'sachet_3g_6', 'sachet_3g_7', 'sachet_3g_8']\n",
    "plot_mean_bar_chart(df_churn,col)"
   ]
  },
  {
   "cell_type": "code",
   "execution_count": 37,
   "metadata": {
    "execution": {
     "iopub.execute_input": "2021-10-27T16:11:23.487725Z",
     "iopub.status.busy": "2021-10-27T16:11:23.487483Z",
     "iopub.status.idle": "2021-10-27T16:11:24.204539Z",
     "shell.execute_reply": "2021-10-27T16:11:24.203589Z",
     "shell.execute_reply.started": "2021-10-27T16:11:23.487698Z"
    }
   },
   "outputs": [],
   "source": [
    "plot_box_chart('arpu')"
   ]
  },
  {
   "cell_type": "code",
   "execution_count": 38,
   "metadata": {
    "execution": {
     "iopub.execute_input": "2021-10-27T16:11:24.206064Z",
     "iopub.status.busy": "2021-10-27T16:11:24.205850Z",
     "iopub.status.idle": "2021-10-27T16:11:24.212870Z",
     "shell.execute_reply": "2021-10-27T16:11:24.211955Z",
     "shell.execute_reply.started": "2021-10-27T16:11:24.206037Z"
    }
   },
   "outputs": [],
   "source": [
    "mou_cols = df_churn.columns[df_churn.columns.str.contains('mou')]\n",
    "mou_cols"
   ]
  },
  {
   "cell_type": "code",
   "execution_count": 39,
   "metadata": {
    "execution": {
     "iopub.execute_input": "2021-10-27T16:11:24.214640Z",
     "iopub.status.busy": "2021-10-27T16:11:24.214342Z",
     "iopub.status.idle": "2021-10-27T16:11:24.250447Z",
     "shell.execute_reply": "2021-10-27T16:11:24.249685Z",
     "shell.execute_reply.started": "2021-10-27T16:11:24.214596Z"
    }
   },
   "outputs": [],
   "source": [
    "df_churn[mou_cols] = df_churn[mou_cols].fillna(0)"
   ]
  },
  {
   "cell_type": "code",
   "execution_count": 40,
   "metadata": {
    "execution": {
     "iopub.execute_input": "2021-10-27T16:11:24.252082Z",
     "iopub.status.busy": "2021-10-27T16:11:24.251763Z",
     "iopub.status.idle": "2021-10-27T16:11:24.260279Z",
     "shell.execute_reply": "2021-10-27T16:11:24.259480Z",
     "shell.execute_reply.started": "2021-10-27T16:11:24.252041Z"
    }
   },
   "outputs": [],
   "source": [
    "mou_cols_6 = df_churn.columns[df_churn.columns.str.contains('mou_6')]\n",
    "mou_cols_6"
   ]
  },
  {
   "cell_type": "code",
   "execution_count": 41,
   "metadata": {
    "execution": {
     "iopub.execute_input": "2021-10-27T16:11:24.265798Z",
     "iopub.status.busy": "2021-10-27T16:11:24.265529Z",
     "iopub.status.idle": "2021-10-27T16:11:24.301392Z",
     "shell.execute_reply": "2021-10-27T16:11:24.300637Z",
     "shell.execute_reply.started": "2021-10-27T16:11:24.265768Z"
    }
   },
   "outputs": [],
   "source": [
    "df_churn[mou_cols_6].head()"
   ]
  },
  {
   "cell_type": "markdown",
   "metadata": {},
   "source": [
    "#### Drop highly correlated columns"
   ]
  },
  {
   "cell_type": "code",
   "execution_count": 42,
   "metadata": {
    "execution": {
     "iopub.execute_input": "2021-10-27T16:11:24.302985Z",
     "iopub.status.busy": "2021-10-27T16:11:24.302695Z",
     "iopub.status.idle": "2021-10-27T16:11:24.316082Z",
     "shell.execute_reply": "2021-10-27T16:11:24.315162Z",
     "shell.execute_reply.started": "2021-10-27T16:11:24.302944Z"
    }
   },
   "outputs": [],
   "source": [
    "corr_col = df_churn.columns[df_churn.columns.str.contains('total_og_mou|std_og_mou|loc_og_mou|total_ic_mou|std_ic_mou|loc_ic_mou',regex=True)]\n",
    "df_churn = df_churn.drop(corr_col, axis=1)"
   ]
  },
  {
   "cell_type": "code",
   "execution_count": 43,
   "metadata": {
    "execution": {
     "iopub.execute_input": "2021-10-27T16:11:24.317679Z",
     "iopub.status.busy": "2021-10-27T16:11:24.317358Z",
     "iopub.status.idle": "2021-10-27T16:11:24.807323Z",
     "shell.execute_reply": "2021-10-27T16:11:24.806440Z",
     "shell.execute_reply.started": "2021-10-27T16:11:24.317637Z"
    }
   },
   "outputs": [],
   "source": [
    "plot_box_chart('offnet_mou')"
   ]
  },
  {
   "cell_type": "code",
   "execution_count": 44,
   "metadata": {
    "execution": {
     "iopub.execute_input": "2021-10-27T16:11:24.808797Z",
     "iopub.status.busy": "2021-10-27T16:11:24.808521Z",
     "iopub.status.idle": "2021-10-27T16:11:25.320776Z",
     "shell.execute_reply": "2021-10-27T16:11:25.319638Z",
     "shell.execute_reply.started": "2021-10-27T16:11:24.808767Z"
    }
   },
   "outputs": [],
   "source": [
    "plot_box_chart('onnet_mou')"
   ]
  },
  {
   "cell_type": "code",
   "execution_count": 45,
   "metadata": {
    "execution": {
     "iopub.execute_input": "2021-10-27T16:11:25.322202Z",
     "iopub.status.busy": "2021-10-27T16:11:25.321964Z",
     "iopub.status.idle": "2021-10-27T16:11:25.326041Z",
     "shell.execute_reply": "2021-10-27T16:11:25.325058Z",
     "shell.execute_reply.started": "2021-10-27T16:11:25.322175Z"
    }
   },
   "outputs": [],
   "source": [
    "# tn_range = [0, 6, 12, 24, 60, 61]\n",
    "# tn_label = [ '0-6 Months', '6-12 Months', '1-2 Yrs', '2-5 Yrs', '5 Yrs and above']\n",
    "# tenure_data['tenure_range'] = pd.cut(tenure_data['tenure_in_months'], tn_range, labels=tn_label)"
   ]
  },
  {
   "cell_type": "code",
   "execution_count": 46,
   "metadata": {
    "execution": {
     "iopub.execute_input": "2021-10-27T16:11:25.327751Z",
     "iopub.status.busy": "2021-10-27T16:11:25.327481Z",
     "iopub.status.idle": "2021-10-27T16:11:25.354177Z",
     "shell.execute_reply": "2021-10-27T16:11:25.353486Z",
     "shell.execute_reply.started": "2021-10-27T16:11:25.327721Z"
    }
   },
   "outputs": [],
   "source": [
    "df_churn = df_churn.fillna(0)"
   ]
  },
  {
   "cell_type": "markdown",
   "metadata": {},
   "source": [
    "#### Derive new columns"
   ]
  },
  {
   "cell_type": "code",
   "execution_count": 47,
   "metadata": {
    "execution": {
     "iopub.execute_input": "2021-10-27T16:11:25.356381Z",
     "iopub.status.busy": "2021-10-27T16:11:25.355610Z",
     "iopub.status.idle": "2021-10-27T16:11:25.411059Z",
     "shell.execute_reply": "2021-10-27T16:11:25.410273Z",
     "shell.execute_reply.started": "2021-10-27T16:11:25.356333Z"
    }
   },
   "outputs": [],
   "source": [
    "col_list = df_churn.filter(regex='_6|_7').columns.str[:-2]\n",
    "for col in set(col_list):\n",
    "    avg_col_name = col+\"_avg67\"\n",
    "    col_6 = col+\"_6\"\n",
    "    col_7 = col+\"_7\"\n",
    "    df_churn[avg_col_name] = (df_churn[col_6]  + df_churn[col_7])/ 2\n",
    "    print(avg_col_name)"
   ]
  },
  {
   "cell_type": "code",
   "execution_count": 48,
   "metadata": {
    "execution": {
     "iopub.execute_input": "2021-10-27T16:11:25.412502Z",
     "iopub.status.busy": "2021-10-27T16:11:25.412097Z",
     "iopub.status.idle": "2021-10-27T16:11:25.449496Z",
     "shell.execute_reply": "2021-10-27T16:11:25.448830Z",
     "shell.execute_reply.started": "2021-10-27T16:11:25.412470Z"
    }
   },
   "outputs": [],
   "source": [
    "col_list_to_drop = df_churn.filter(regex='_6|_7')\n",
    "df_churn.drop(col_list_to_drop,axis=1,inplace=True)\n",
    "df_churn.shape"
   ]
  },
  {
   "cell_type": "code",
   "execution_count": 49,
   "metadata": {
    "execution": {
     "iopub.execute_input": "2021-10-27T16:11:25.451012Z",
     "iopub.status.busy": "2021-10-27T16:11:25.450525Z",
     "iopub.status.idle": "2021-10-27T16:11:25.456320Z",
     "shell.execute_reply": "2021-10-27T16:11:25.455386Z",
     "shell.execute_reply.started": "2021-10-27T16:11:25.450980Z"
    }
   },
   "outputs": [],
   "source": [
    "y = df_churn.pop('churned')\n",
    "X = df_churn"
   ]
  },
  {
   "cell_type": "markdown",
   "metadata": {},
   "source": [
    "#### Using SMOTE to tackle Class imbalance"
   ]
  },
  {
   "cell_type": "code",
   "execution_count": 50,
   "metadata": {
    "execution": {
     "iopub.execute_input": "2021-10-27T16:11:25.457605Z",
     "iopub.status.busy": "2021-10-27T16:11:25.457385Z",
     "iopub.status.idle": "2021-10-27T16:11:25.653105Z",
     "shell.execute_reply": "2021-10-27T16:11:25.652246Z",
     "shell.execute_reply.started": "2021-10-27T16:11:25.457566Z"
    }
   },
   "outputs": [],
   "source": [
    "# ros = RandomOverSampler(random_state=42)\n",
    "smote = SMOTE()\n",
    "# fit predictor and target variable\n",
    "X_ros, y_ros = smote.fit_resample(X, y)"
   ]
  },
  {
   "cell_type": "code",
   "execution_count": 51,
   "metadata": {
    "execution": {
     "iopub.execute_input": "2021-10-27T16:11:25.654534Z",
     "iopub.status.busy": "2021-10-27T16:11:25.654305Z",
     "iopub.status.idle": "2021-10-27T16:11:25.708497Z",
     "shell.execute_reply": "2021-10-27T16:11:25.707731Z",
     "shell.execute_reply.started": "2021-10-27T16:11:25.654507Z"
    }
   },
   "outputs": [],
   "source": [
    "X_train, X_test, y_train, y_test = train_test_split(X_ros, y_ros, test_size=0.2, random_state=42)"
   ]
  },
  {
   "cell_type": "code",
   "execution_count": 52,
   "metadata": {
    "execution": {
     "iopub.execute_input": "2021-10-27T16:11:25.710177Z",
     "iopub.status.busy": "2021-10-27T16:11:25.709834Z",
     "iopub.status.idle": "2021-10-27T16:11:25.714883Z",
     "shell.execute_reply": "2021-10-27T16:11:25.714049Z",
     "shell.execute_reply.started": "2021-10-27T16:11:25.710134Z"
    }
   },
   "outputs": [],
   "source": [
    "col = X_train.columns"
   ]
  },
  {
   "cell_type": "markdown",
   "metadata": {},
   "source": [
    "#### Data Scaling"
   ]
  },
  {
   "cell_type": "code",
   "execution_count": 53,
   "metadata": {
    "execution": {
     "iopub.execute_input": "2021-10-27T16:11:25.716759Z",
     "iopub.status.busy": "2021-10-27T16:11:25.716370Z",
     "iopub.status.idle": "2021-10-27T16:11:25.863867Z",
     "shell.execute_reply": "2021-10-27T16:11:25.862815Z",
     "shell.execute_reply.started": "2021-10-27T16:11:25.716723Z"
    }
   },
   "outputs": [],
   "source": [
    "sc = StandardScaler()\n",
    "X_train[col] = sc.fit_transform(X_train[col])\n",
    "X_test[col] = sc.transform(X_test[col])"
   ]
  },
  {
   "cell_type": "markdown",
   "metadata": {},
   "source": [
    "#### Principle Component Analysis"
   ]
  },
  {
   "cell_type": "code",
   "execution_count": 54,
   "metadata": {
    "execution": {
     "iopub.execute_input": "2021-10-27T16:11:25.865810Z",
     "iopub.status.busy": "2021-10-27T16:11:25.865420Z",
     "iopub.status.idle": "2021-10-27T16:11:25.869756Z",
     "shell.execute_reply": "2021-10-27T16:11:25.868750Z",
     "shell.execute_reply.started": "2021-10-27T16:11:25.865772Z"
    }
   },
   "outputs": [],
   "source": [
    "pca = PCA(n_components=60, random_state=42)"
   ]
  },
  {
   "cell_type": "code",
   "execution_count": 55,
   "metadata": {
    "execution": {
     "iopub.execute_input": "2021-10-27T16:11:25.871628Z",
     "iopub.status.busy": "2021-10-27T16:11:25.871296Z",
     "iopub.status.idle": "2021-10-27T16:11:26.633952Z",
     "shell.execute_reply": "2021-10-27T16:11:26.632942Z",
     "shell.execute_reply.started": "2021-10-27T16:11:25.871571Z"
    }
   },
   "outputs": [],
   "source": [
    "X_pca_train = pca.fit_transform(X_train)\n",
    "X_pca_test = pca.transform(X_test)"
   ]
  },
  {
   "cell_type": "code",
   "execution_count": 56,
   "metadata": {
    "execution": {
     "iopub.execute_input": "2021-10-27T16:11:26.636417Z",
     "iopub.status.busy": "2021-10-27T16:11:26.635673Z",
     "iopub.status.idle": "2021-10-27T16:11:26.845239Z",
     "shell.execute_reply": "2021-10-27T16:11:26.844398Z",
     "shell.execute_reply.started": "2021-10-27T16:11:26.636364Z"
    }
   },
   "outputs": [],
   "source": [
    "var_cumu = np.cumsum(pca.explained_variance_ratio_)\n",
    "plt.plot(range(1,len(var_cumu)+1), var_cumu)"
   ]
  },
  {
   "cell_type": "markdown",
   "metadata": {},
   "source": [
    "### Data Modeling"
   ]
  },
  {
   "cell_type": "code",
   "execution_count": 57,
   "metadata": {
    "execution": {
     "iopub.execute_input": "2021-10-27T16:11:26.846820Z",
     "iopub.status.busy": "2021-10-27T16:11:26.846564Z",
     "iopub.status.idle": "2021-10-27T16:11:26.850489Z",
     "shell.execute_reply": "2021-10-27T16:11:26.849757Z",
     "shell.execute_reply.started": "2021-10-27T16:11:26.846792Z"
    }
   },
   "outputs": [],
   "source": [
    "classifier_rf = RandomForestClassifier(random_state=42, n_jobs=-1)"
   ]
  },
  {
   "cell_type": "code",
   "execution_count": 58,
   "metadata": {
    "execution": {
     "iopub.execute_input": "2021-10-27T16:11:26.851780Z",
     "iopub.status.busy": "2021-10-27T16:11:26.851500Z",
     "iopub.status.idle": "2021-10-27T16:11:26.863029Z",
     "shell.execute_reply": "2021-10-27T16:11:26.861995Z",
     "shell.execute_reply.started": "2021-10-27T16:11:26.851747Z"
    }
   },
   "outputs": [],
   "source": [
    "# Create the parameter grid based on the results of random search \n",
    "params = {\n",
    "    'n_estimators': [200],\n",
    "    'max_depth': [15, 20],\n",
    "    'min_samples_leaf': [10,20],\n",
    "    'max_features': [30,40],\n",
    "    'min_samples_split': [10,20]\n",
    "}"
   ]
  },
  {
   "cell_type": "code",
   "execution_count": 59,
   "metadata": {
    "execution": {
     "iopub.execute_input": "2021-10-27T16:11:26.864994Z",
     "iopub.status.busy": "2021-10-27T16:11:26.864436Z",
     "iopub.status.idle": "2021-10-27T16:11:26.874243Z",
     "shell.execute_reply": "2021-10-27T16:11:26.873260Z",
     "shell.execute_reply.started": "2021-10-27T16:11:26.864957Z"
    }
   },
   "outputs": [],
   "source": [
    "# Instantiate the grid search model\n",
    "grid_search = GridSearchCV(estimator=classifier_rf, param_grid=params, \n",
    "                          cv=4, n_jobs=-1, verbose=1, scoring = \"accuracy\")"
   ]
  },
  {
   "cell_type": "code",
   "execution_count": 60,
   "metadata": {
    "execution": {
     "iopub.execute_input": "2021-10-27T16:11:26.878154Z",
     "iopub.status.busy": "2021-10-27T16:11:26.876716Z",
     "iopub.status.idle": "2021-10-27T16:11:56.148656Z",
     "shell.execute_reply": "2021-10-27T16:11:56.147641Z",
     "shell.execute_reply.started": "2021-10-27T16:11:26.878100Z"
    }
   },
   "outputs": [],
   "source": [
    "%%time\n",
    "grid_search.fit(X_pca_train,y_train)"
   ]
  },
  {
   "cell_type": "code",
   "execution_count": 61,
   "metadata": {
    "execution": {
     "iopub.execute_input": "2021-10-27T16:11:56.150505Z",
     "iopub.status.busy": "2021-10-27T16:11:56.150283Z",
     "iopub.status.idle": "2021-10-27T16:11:56.170561Z",
     "shell.execute_reply": "2021-10-27T16:11:56.169640Z",
     "shell.execute_reply.started": "2021-10-27T16:11:56.150477Z"
    }
   },
   "outputs": [],
   "source": [
    "grid_search.best_estimator_"
   ]
  },
  {
   "cell_type": "code",
   "execution_count": null,
   "metadata": {
    "execution": {
     "iopub.status.busy": "2021-10-27T16:11:56.171442Z",
     "iopub.status.idle": "2021-10-27T16:11:56.171997Z",
     "shell.execute_reply": "2021-10-27T16:11:56.171815Z",
     "shell.execute_reply.started": "2021-10-27T16:11:56.171791Z"
    }
   },
   "outputs": [],
   "source": [
    "classifier_rf = RandomForestClassifier(max_depth=20, max_features=40, min_samples_leaf=10,\n",
    "                       min_samples_split=10, n_estimators=200, n_jobs=-1,random_state=42, oob_score=True)"
   ]
  },
  {
   "cell_type": "code",
   "execution_count": null,
   "metadata": {
    "execution": {
     "iopub.status.busy": "2021-10-27T16:11:56.173784Z",
     "iopub.status.idle": "2021-10-27T16:11:56.174280Z",
     "shell.execute_reply": "2021-10-27T16:11:56.174119Z",
     "shell.execute_reply.started": "2021-10-27T16:11:56.174098Z"
    }
   },
   "outputs": [],
   "source": [
    "classifier_rf.fit(X_pca_train, y_train)"
   ]
  },
  {
   "cell_type": "code",
   "execution_count": 92,
   "metadata": {
    "execution": {
     "iopub.execute_input": "2021-10-27T16:25:38.598182Z",
     "iopub.status.busy": "2021-10-27T16:25:38.597735Z",
     "iopub.status.idle": "2021-10-27T16:25:38.604241Z",
     "shell.execute_reply": "2021-10-27T16:25:38.603258Z",
     "shell.execute_reply.started": "2021-10-27T16:25:38.598152Z"
    }
   },
   "outputs": [],
   "source": [
    "def print_model_metrics(y_test,y_pred,model_name):\n",
    "#     header(model_name+\" Model Stats Scores Summary : \")\n",
    "    cp = confusion_matrix(y_test,y_pred)\n",
    "#     plt.figure()\n",
    "#     plot_confusion_matrix(cp)\n",
    "#     plt.show()\n",
    "    \n",
    "    accuracy = round(accuracy_score(y_test,y_pred),2)\n",
    "    recall = round(recall_score(y_test,y_pred),2)\n",
    "    precision = round(precision_score(y_test,y_pred),2)\n",
    "    auc = round(roc_auc_score(y_test,y_pred),2)\n",
    "    f1 = round(f1_score(y_test,y_pred),2)\n",
    "    \n",
    "    data = [[model_name,accuracy,recall,precision,auc,f1]] \n",
    "    df = pd.DataFrame(data, columns = ['Model', 'Accuracy','Precision','Recall','AUC','F1'])\n",
    "#     add_to_global_summary(df)\n",
    "    return df "
   ]
  },
  {
   "cell_type": "code",
   "execution_count": null,
   "metadata": {
    "execution": {
     "iopub.status.busy": "2021-10-27T16:11:56.176705Z",
     "iopub.status.idle": "2021-10-27T16:11:56.177149Z",
     "shell.execute_reply": "2021-10-27T16:11:56.176994Z",
     "shell.execute_reply.started": "2021-10-27T16:11:56.176976Z"
    }
   },
   "outputs": [],
   "source": [
    "print_model_metrics(y_test, classifier_rf.predict(X_pca_test),\"Ramdom Forest\")"
   ]
  },
  {
   "cell_type": "code",
   "execution_count": null,
   "metadata": {
    "execution": {
     "iopub.status.busy": "2021-10-27T16:11:56.178061Z",
     "iopub.status.idle": "2021-10-27T16:11:56.178482Z",
     "shell.execute_reply": "2021-10-27T16:11:56.178342Z",
     "shell.execute_reply.started": "2021-10-27T16:11:56.178325Z"
    }
   },
   "outputs": [],
   "source": [
    "print(classification_report(y_test, classifier_rf.predict(X_test)))"
   ]
  },
  {
   "cell_type": "code",
   "execution_count": null,
   "metadata": {
    "execution": {
     "iopub.status.busy": "2021-10-27T16:11:56.179378Z",
     "iopub.status.idle": "2021-10-27T16:11:56.179818Z",
     "shell.execute_reply": "2021-10-27T16:11:56.179673Z",
     "shell.execute_reply.started": "2021-10-27T16:11:56.179655Z"
    }
   },
   "outputs": [],
   "source": [
    "def evaluate_model(dt_classifier):\n",
    "    print(\"Train Accuracy :\", accuracy_score(y_train, dt_classifier.predict(X_train)))\n",
    "    print(\"Precision :\", precision_score(y_train, dt_classifier.predict(X_train)))\n",
    "    print(\"Train Confusion Matrix:\")\n",
    "    print(confusion_matrix(y_train, dt_classifier.predict(X_train)))\n",
    "    print(\"-\"*50)\n",
    "    print(\"Test Accuracy :\", accuracy_score(y_test, dt_classifier.predict(X_test)))\n",
    "    print(\"Precision :\", precision_score(y_test, dt_classifier.predict(X_test)))\n",
    "    print(\"Test Confusion Matrix:\")\n",
    "    print(confusion_matrix(y_test, dt_classifier.predict(X_test)))"
   ]
  },
  {
   "cell_type": "code",
   "execution_count": null,
   "metadata": {
    "execution": {
     "iopub.status.busy": "2021-10-27T16:11:56.180688Z",
     "iopub.status.idle": "2021-10-27T16:11:56.181119Z",
     "shell.execute_reply": "2021-10-27T16:11:56.180968Z",
     "shell.execute_reply.started": "2021-10-27T16:11:56.180950Z"
    }
   },
   "outputs": [],
   "source": [
    "evaluate_model(classifier_rf)"
   ]
  },
  {
   "cell_type": "code",
   "execution_count": null,
   "metadata": {
    "execution": {
     "iopub.status.busy": "2021-10-27T16:11:56.181964Z",
     "iopub.status.idle": "2021-10-27T16:11:56.182391Z",
     "shell.execute_reply": "2021-10-27T16:11:56.182250Z",
     "shell.execute_reply.started": "2021-10-27T16:11:56.182233Z"
    }
   },
   "outputs": [],
   "source": [
    "clf_xg = XGBClassifier(n_estimators=200, learning_rate=0.1, random_state=42, n_jobs=-1)\n",
    "clf_xg.fit(X_train,y_train)"
   ]
  },
  {
   "cell_type": "code",
   "execution_count": null,
   "metadata": {
    "execution": {
     "iopub.status.busy": "2021-10-27T16:11:56.183213Z",
     "iopub.status.idle": "2021-10-27T16:11:56.183650Z",
     "shell.execute_reply": "2021-10-27T16:11:56.183476Z",
     "shell.execute_reply.started": "2021-10-27T16:11:56.183460Z"
    }
   },
   "outputs": [],
   "source": [
    "print(classification_report(y_test, clf_xg.predict(X_test)))"
   ]
  },
  {
   "cell_type": "code",
   "execution_count": null,
   "metadata": {
    "execution": {
     "iopub.status.busy": "2021-10-27T16:11:56.184485Z",
     "iopub.status.idle": "2021-10-27T16:11:56.184971Z",
     "shell.execute_reply": "2021-10-27T16:11:56.184821Z",
     "shell.execute_reply.started": "2021-10-27T16:11:56.184803Z"
    }
   },
   "outputs": [],
   "source": [
    "evaluate_model(clf_xg)"
   ]
  },
  {
   "cell_type": "markdown",
   "metadata": {},
   "source": [
    "### Identify important predcitor variables"
   ]
  },
  {
   "cell_type": "markdown",
   "metadata": {},
   "source": [
    "#### Logistic Regression with RFE"
   ]
  },
  {
   "cell_type": "code",
   "execution_count": 62,
   "metadata": {
    "execution": {
     "iopub.execute_input": "2021-10-27T16:12:22.238266Z",
     "iopub.status.busy": "2021-10-27T16:12:22.237454Z",
     "iopub.status.idle": "2021-10-27T16:12:22.243084Z",
     "shell.execute_reply": "2021-10-27T16:12:22.242216Z",
     "shell.execute_reply.started": "2021-10-27T16:12:22.238221Z"
    }
   },
   "outputs": [],
   "source": [
    "lr = LogisticRegression(solver='liblinear')"
   ]
  },
  {
   "cell_type": "code",
   "execution_count": 63,
   "metadata": {
    "execution": {
     "iopub.execute_input": "2021-10-27T16:12:24.347410Z",
     "iopub.status.busy": "2021-10-27T16:12:24.346556Z",
     "iopub.status.idle": "2021-10-27T16:17:46.562316Z",
     "shell.execute_reply": "2021-10-27T16:17:46.561240Z",
     "shell.execute_reply.started": "2021-10-27T16:12:24.347373Z"
    }
   },
   "outputs": [],
   "source": [
    "rfe = RFE(lr, 15)             # running RFE with 13 variables as output\n",
    "rfe = rfe.fit(X_train, y_train)"
   ]
  },
  {
   "cell_type": "code",
   "execution_count": 64,
   "metadata": {
    "execution": {
     "iopub.execute_input": "2021-10-27T16:17:46.564247Z",
     "iopub.status.busy": "2021-10-27T16:17:46.563970Z",
     "iopub.status.idle": "2021-10-27T16:17:46.568803Z",
     "shell.execute_reply": "2021-10-27T16:17:46.567833Z",
     "shell.execute_reply.started": "2021-10-27T16:17:46.564217Z"
    }
   },
   "outputs": [],
   "source": [
    "col = X_train.columns[rfe.support_]"
   ]
  },
  {
   "cell_type": "code",
   "execution_count": 65,
   "metadata": {
    "execution": {
     "iopub.execute_input": "2021-10-27T16:17:46.570863Z",
     "iopub.status.busy": "2021-10-27T16:17:46.570541Z",
     "iopub.status.idle": "2021-10-27T16:17:46.584632Z",
     "shell.execute_reply": "2021-10-27T16:17:46.583993Z",
     "shell.execute_reply.started": "2021-10-27T16:17:46.570822Z"
    }
   },
   "outputs": [],
   "source": [
    "X_train.columns[~rfe.support_]"
   ]
  },
  {
   "cell_type": "code",
   "execution_count": 66,
   "metadata": {
    "execution": {
     "iopub.execute_input": "2021-10-27T16:17:46.586507Z",
     "iopub.status.busy": "2021-10-27T16:17:46.586025Z",
     "iopub.status.idle": "2021-10-27T16:17:46.597621Z",
     "shell.execute_reply": "2021-10-27T16:17:46.596976Z",
     "shell.execute_reply.started": "2021-10-27T16:17:46.586479Z"
    }
   },
   "outputs": [],
   "source": [
    "y_train_pred_final = pd.DataFrame({'CustID':y_train.index, 'Churn':y_train.values})"
   ]
  },
  {
   "cell_type": "code",
   "execution_count": 67,
   "metadata": {
    "execution": {
     "iopub.execute_input": "2021-10-27T16:17:46.599293Z",
     "iopub.status.busy": "2021-10-27T16:17:46.598959Z",
     "iopub.status.idle": "2021-10-27T16:17:46.611731Z",
     "shell.execute_reply": "2021-10-27T16:17:46.610666Z",
     "shell.execute_reply.started": "2021-10-27T16:17:46.599264Z"
    }
   },
   "outputs": [],
   "source": [
    "def VIF(X_train_new):\n",
    "    vif = pd.DataFrame()\n",
    "    X = X_train_new\n",
    "    vif['Features'] = X.columns\n",
    "    vif['VIF'] = [variance_inflation_factor(X.values, i) for i in range(X.shape[1])]\n",
    "    vif['VIF'] = round(vif['VIF'], 2)\n",
    "    vif = vif.sort_values(by = \"VIF\", ascending = False)\n",
    "    return vif\n",
    "\n",
    "def stats_model(X_train_new):\n",
    "    X_train_sm = sm.add_constant(X_train_new)\n",
    "    lm = sm.GLM(y_train,X_train_sm, family = sm.families.Binomial()).fit()   # Running the linear model\n",
    "    y_train_pred = lm.predict(X_train_sm).values.reshape(-1)\n",
    "    y_train_pred_final['Churn_Prob'] = y_train_pred\n",
    "    y_train_pred_final['predicted'] = y_train_pred_final.Churn_Prob.map(lambda x: 1 if x > 0.5 else 0)\n",
    "    return lm, y_train_pred_final"
   ]
  },
  {
   "cell_type": "code",
   "execution_count": 68,
   "metadata": {
    "execution": {
     "iopub.execute_input": "2021-10-27T16:17:46.613450Z",
     "iopub.status.busy": "2021-10-27T16:17:46.612782Z",
     "iopub.status.idle": "2021-10-27T16:17:50.063928Z",
     "shell.execute_reply": "2021-10-27T16:17:50.063034Z",
     "shell.execute_reply.started": "2021-10-27T16:17:46.613410Z"
    }
   },
   "outputs": [],
   "source": [
    "res, y_train_pred_final = stats_model(X_train[col])\n",
    "res.summary()"
   ]
  },
  {
   "cell_type": "code",
   "execution_count": 69,
   "metadata": {
    "execution": {
     "iopub.execute_input": "2021-10-27T16:17:50.065871Z",
     "iopub.status.busy": "2021-10-27T16:17:50.065348Z",
     "iopub.status.idle": "2021-10-27T16:17:50.080440Z",
     "shell.execute_reply": "2021-10-27T16:17:50.079610Z",
     "shell.execute_reply.started": "2021-10-27T16:17:50.065824Z"
    }
   },
   "outputs": [],
   "source": [
    "y_train_pred_final.head()"
   ]
  },
  {
   "cell_type": "code",
   "execution_count": 70,
   "metadata": {
    "execution": {
     "iopub.execute_input": "2021-10-27T16:17:50.082795Z",
     "iopub.status.busy": "2021-10-27T16:17:50.082140Z",
     "iopub.status.idle": "2021-10-27T16:17:50.870156Z",
     "shell.execute_reply": "2021-10-27T16:17:50.869225Z",
     "shell.execute_reply.started": "2021-10-27T16:17:50.082746Z"
    }
   },
   "outputs": [],
   "source": [
    "vif = VIF(X_train[col])\n",
    "vif"
   ]
  },
  {
   "cell_type": "code",
   "execution_count": 71,
   "metadata": {
    "execution": {
     "iopub.execute_input": "2021-10-27T16:17:50.873048Z",
     "iopub.status.busy": "2021-10-27T16:17:50.872274Z",
     "iopub.status.idle": "2021-10-27T16:17:50.888192Z",
     "shell.execute_reply": "2021-10-27T16:17:50.887281Z",
     "shell.execute_reply.started": "2021-10-27T16:17:50.872996Z"
    }
   },
   "outputs": [],
   "source": [
    "print(accuracy_score(y_train_pred_final.Churn, y_train_pred_final.predicted))"
   ]
  },
  {
   "cell_type": "code",
   "execution_count": 72,
   "metadata": {
    "execution": {
     "iopub.execute_input": "2021-10-27T16:17:50.892289Z",
     "iopub.status.busy": "2021-10-27T16:17:50.891558Z",
     "iopub.status.idle": "2021-10-27T16:17:50.898614Z",
     "shell.execute_reply": "2021-10-27T16:17:50.897233Z",
     "shell.execute_reply.started": "2021-10-27T16:17:50.892237Z"
    }
   },
   "outputs": [],
   "source": [
    "col = col.drop('total_rech_data_8',1)"
   ]
  },
  {
   "cell_type": "code",
   "execution_count": 73,
   "metadata": {
    "execution": {
     "iopub.execute_input": "2021-10-27T16:17:50.901754Z",
     "iopub.status.busy": "2021-10-27T16:17:50.900915Z",
     "iopub.status.idle": "2021-10-27T16:17:51.284880Z",
     "shell.execute_reply": "2021-10-27T16:17:51.283998Z",
     "shell.execute_reply.started": "2021-10-27T16:17:50.901696Z"
    }
   },
   "outputs": [],
   "source": [
    "res, y_train_pred_final = stats_model(X_train[col])\n",
    "res.summary()"
   ]
  },
  {
   "cell_type": "code",
   "execution_count": 74,
   "metadata": {
    "execution": {
     "iopub.execute_input": "2021-10-27T16:17:51.286720Z",
     "iopub.status.busy": "2021-10-27T16:17:51.286137Z",
     "iopub.status.idle": "2021-10-27T16:17:51.968385Z",
     "shell.execute_reply": "2021-10-27T16:17:51.967532Z",
     "shell.execute_reply.started": "2021-10-27T16:17:51.286676Z"
    }
   },
   "outputs": [],
   "source": [
    "vif = VIF(X_train[col])\n",
    "vif"
   ]
  },
  {
   "cell_type": "code",
   "execution_count": 75,
   "metadata": {
    "execution": {
     "iopub.execute_input": "2021-10-27T16:17:51.970238Z",
     "iopub.status.busy": "2021-10-27T16:17:51.969691Z",
     "iopub.status.idle": "2021-10-27T16:17:51.985707Z",
     "shell.execute_reply": "2021-10-27T16:17:51.984737Z",
     "shell.execute_reply.started": "2021-10-27T16:17:51.970193Z"
    }
   },
   "outputs": [],
   "source": [
    "print(accuracy_score(y_train_pred_final.Churn, y_train_pred_final.predicted))"
   ]
  },
  {
   "cell_type": "code",
   "execution_count": 76,
   "metadata": {
    "execution": {
     "iopub.execute_input": "2021-10-27T16:19:12.993159Z",
     "iopub.status.busy": "2021-10-27T16:19:12.992903Z",
     "iopub.status.idle": "2021-10-27T16:19:13.000126Z",
     "shell.execute_reply": "2021-10-27T16:19:12.999384Z",
     "shell.execute_reply.started": "2021-10-27T16:19:12.993132Z"
    }
   },
   "outputs": [],
   "source": [
    "def draw_roc( actual, probs ):\n",
    "    fpr, tpr, thresholds = metrics.roc_curve( actual, probs,\n",
    "                                              drop_intermediate = False )\n",
    "    auc_score = metrics.roc_auc_score( actual, probs )\n",
    "    plt.figure(figsize=(5, 5))\n",
    "    plt.plot( fpr, tpr, label='ROC curve (area = %0.2f)' % auc_score )\n",
    "    plt.plot([0, 1], [0, 1], 'k--')\n",
    "    plt.xlim([0.0, 1.0])\n",
    "    plt.ylim([0.0, 1.05])\n",
    "    plt.xlabel('False Positive Rate or [1 - True Negative Rate]')\n",
    "    plt.ylabel('True Positive Rate')\n",
    "    plt.title('Receiver operating characteristic example')\n",
    "    plt.legend(loc=\"lower right\")\n",
    "    plt.show()\n",
    "\n",
    "    return None"
   ]
  },
  {
   "cell_type": "code",
   "execution_count": 77,
   "metadata": {
    "execution": {
     "iopub.execute_input": "2021-10-27T16:19:13.797969Z",
     "iopub.status.busy": "2021-10-27T16:19:13.796992Z",
     "iopub.status.idle": "2021-10-27T16:19:13.983631Z",
     "shell.execute_reply": "2021-10-27T16:19:13.982670Z",
     "shell.execute_reply.started": "2021-10-27T16:19:13.797920Z"
    }
   },
   "outputs": [],
   "source": [
    "# Let's create columns with different probability cutoffs \n",
    "numbers = [float(x)/10 for x in range(10)]\n",
    "for i in numbers:\n",
    "    y_train_pred_final[i]= y_train_pred_final.Churn_Prob.map(lambda x: 1 if x > i else 0)\n",
    "y_train_pred_final.head()"
   ]
  },
  {
   "cell_type": "code",
   "execution_count": 78,
   "metadata": {
    "execution": {
     "iopub.execute_input": "2021-10-27T16:19:14.797232Z",
     "iopub.status.busy": "2021-10-27T16:19:14.796961Z",
     "iopub.status.idle": "2021-10-27T16:19:15.558797Z",
     "shell.execute_reply": "2021-10-27T16:19:15.557826Z",
     "shell.execute_reply.started": "2021-10-27T16:19:14.797203Z"
    }
   },
   "outputs": [],
   "source": [
    "# Now let's calculate accuracy sensitivity and specificity for various probability cutoffs.\n",
    "cutoff_df = pd.DataFrame( columns = ['prob','accuracy','sensi','speci','precision','recall'])\n",
    "from sklearn.metrics import confusion_matrix\n",
    "\n",
    "num = [0.0,0.1,0.2,0.3,0.4,0.5,0.6,0.7,0.8,0.9]\n",
    "for i in num:\n",
    "    cm1 = confusion_matrix(y_train_pred_final.Churn, y_train_pred_final[i] )\n",
    "    pre_score = precision_score(y_train_pred_final.Churn, y_train_pred_final[i] )\n",
    "    recall = recall_score(y_train_pred_final.Churn, y_train_pred_final[i] )\n",
    "    total1=sum(sum(cm1))\n",
    "    accuracy = (cm1[0,0]+cm1[1,1])/total1\n",
    "    \n",
    "    speci = cm1[0,0]/(cm1[0,0]+cm1[0,1])\n",
    "    sensi = cm1[1,1]/(cm1[1,0]+cm1[1,1])\n",
    "    cutoff_df.loc[i] =[ i ,accuracy,sensi,speci, pre_score,recall]\n",
    "print(cutoff_df)"
   ]
  },
  {
   "cell_type": "code",
   "execution_count": 79,
   "metadata": {
    "execution": {
     "iopub.execute_input": "2021-10-27T16:19:17.592076Z",
     "iopub.status.busy": "2021-10-27T16:19:17.591798Z",
     "iopub.status.idle": "2021-10-27T16:19:17.814011Z",
     "shell.execute_reply": "2021-10-27T16:19:17.813112Z",
     "shell.execute_reply.started": "2021-10-27T16:19:17.592049Z"
    }
   },
   "outputs": [],
   "source": [
    "# Let's plot accuracy sensitivity and specificity for various probabilities.\n",
    "cutoff_df.plot.line(x='prob', y=['accuracy','sensi','speci'])\n",
    "plt.show()"
   ]
  },
  {
   "cell_type": "code",
   "execution_count": 80,
   "metadata": {
    "execution": {
     "iopub.execute_input": "2021-10-27T16:19:25.944493Z",
     "iopub.status.busy": "2021-10-27T16:19:25.944102Z",
     "iopub.status.idle": "2021-10-27T16:19:25.950807Z",
     "shell.execute_reply": "2021-10-27T16:19:25.949532Z",
     "shell.execute_reply.started": "2021-10-27T16:19:25.944446Z"
    }
   },
   "outputs": [],
   "source": [
    "from sklearn.metrics import precision_recall_curve"
   ]
  },
  {
   "cell_type": "code",
   "execution_count": 81,
   "metadata": {
    "execution": {
     "iopub.execute_input": "2021-10-27T16:19:26.867758Z",
     "iopub.status.busy": "2021-10-27T16:19:26.867284Z",
     "iopub.status.idle": "2021-10-27T16:19:26.883339Z",
     "shell.execute_reply": "2021-10-27T16:19:26.882562Z",
     "shell.execute_reply.started": "2021-10-27T16:19:26.867720Z"
    }
   },
   "outputs": [],
   "source": [
    "p, r, thresholds = precision_recall_curve(y_train_pred_final.Churn, y_train_pred_final.Churn_Prob)"
   ]
  },
  {
   "cell_type": "code",
   "execution_count": 82,
   "metadata": {
    "execution": {
     "iopub.execute_input": "2021-10-27T16:19:27.928215Z",
     "iopub.status.busy": "2021-10-27T16:19:27.927209Z",
     "iopub.status.idle": "2021-10-27T16:19:28.118808Z",
     "shell.execute_reply": "2021-10-27T16:19:28.117902Z",
     "shell.execute_reply.started": "2021-10-27T16:19:27.928166Z"
    }
   },
   "outputs": [],
   "source": [
    "plt.plot(thresholds, p[:-1], \"g-\")\n",
    "plt.plot(thresholds, r[:-1], \"r-\")\n",
    "plt.show()"
   ]
  },
  {
   "cell_type": "markdown",
   "metadata": {},
   "source": [
    "#### Cut-off should be 0.6"
   ]
  },
  {
   "cell_type": "code",
   "execution_count": 84,
   "metadata": {
    "execution": {
     "iopub.execute_input": "2021-10-27T16:21:37.923143Z",
     "iopub.status.busy": "2021-10-27T16:21:37.922539Z",
     "iopub.status.idle": "2021-10-27T16:21:37.951064Z",
     "shell.execute_reply": "2021-10-27T16:21:37.948862Z",
     "shell.execute_reply.started": "2021-10-27T16:21:37.923105Z"
    }
   },
   "outputs": [],
   "source": [
    "X_test = X_test[col]\n",
    "X_test_sm = sm.add_constant(X_test)\n",
    "y_test_pred = res.predict(X_test_sm)"
   ]
  },
  {
   "cell_type": "code",
   "execution_count": 85,
   "metadata": {
    "execution": {
     "iopub.execute_input": "2021-10-27T16:21:40.547984Z",
     "iopub.status.busy": "2021-10-27T16:21:40.547172Z",
     "iopub.status.idle": "2021-10-27T16:21:40.561998Z",
     "shell.execute_reply": "2021-10-27T16:21:40.561198Z",
     "shell.execute_reply.started": "2021-10-27T16:21:40.547934Z"
    }
   },
   "outputs": [],
   "source": [
    "# Converting y_pred to a dataframe which is an array\n",
    "y_pred_1 = pd.DataFrame(y_test_pred)\n",
    "# Converting y_test to dataframe\n",
    "y_test_df = pd.DataFrame(y_test)\n",
    "# Putting CustID to index\n",
    "y_test_df['CustID'] = y_test_df.index\n",
    "# Removing index for both dataframes to append them side by side \n",
    "y_pred_1.reset_index(drop=True, inplace=True)\n",
    "y_test_df.reset_index(drop=True, inplace=True)\n",
    "# Appending y_test_df and y_pred_1\n",
    "y_pred_final = pd.concat([y_test_df, y_pred_1],axis=1)\n",
    "y_pred_final.head()"
   ]
  },
  {
   "cell_type": "code",
   "execution_count": 86,
   "metadata": {
    "execution": {
     "iopub.execute_input": "2021-10-27T16:22:16.709787Z",
     "iopub.status.busy": "2021-10-27T16:22:16.709016Z",
     "iopub.status.idle": "2021-10-27T16:22:16.727628Z",
     "shell.execute_reply": "2021-10-27T16:22:16.726873Z",
     "shell.execute_reply.started": "2021-10-27T16:22:16.709744Z"
    }
   },
   "outputs": [],
   "source": [
    "# Renaming the column \n",
    "y_pred_final= y_pred_final.rename(columns={ 0 : 'Churn_Prob'})\n",
    "#Mapping the test data\n",
    "y_pred_final['final_predicted'] = y_pred_final.Churn_Prob.map(lambda x: 1 if x > 0.6 else 0)\n",
    "y_pred_final.head()"
   ]
  },
  {
   "cell_type": "code",
   "execution_count": 87,
   "metadata": {
    "execution": {
     "iopub.execute_input": "2021-10-27T16:23:26.187787Z",
     "iopub.status.busy": "2021-10-27T16:23:26.187463Z",
     "iopub.status.idle": "2021-10-27T16:23:26.196897Z",
     "shell.execute_reply": "2021-10-27T16:23:26.196117Z",
     "shell.execute_reply.started": "2021-10-27T16:23:26.187745Z"
    }
   },
   "outputs": [],
   "source": [
    "accuracy_score(y_pred_final.churned, y_pred_final.final_predicted)"
   ]
  },
  {
   "cell_type": "code",
   "execution_count": 88,
   "metadata": {
    "execution": {
     "iopub.execute_input": "2021-10-27T16:23:37.768468Z",
     "iopub.status.busy": "2021-10-27T16:23:37.767905Z",
     "iopub.status.idle": "2021-10-27T16:23:37.779372Z",
     "shell.execute_reply": "2021-10-27T16:23:37.778642Z",
     "shell.execute_reply.started": "2021-10-27T16:23:37.768434Z"
    }
   },
   "outputs": [],
   "source": [
    "precision_score(y_pred_final.churned, y_pred_final.final_predicted)"
   ]
  },
  {
   "cell_type": "code",
   "execution_count": 89,
   "metadata": {
    "execution": {
     "iopub.execute_input": "2021-10-27T16:25:10.973571Z",
     "iopub.status.busy": "2021-10-27T16:25:10.972367Z",
     "iopub.status.idle": "2021-10-27T16:25:10.980949Z",
     "shell.execute_reply": "2021-10-27T16:25:10.980169Z",
     "shell.execute_reply.started": "2021-10-27T16:25:10.973514Z"
    }
   },
   "outputs": [],
   "source": [
    "classifier_rf = RandomForestClassifier(random_state=42, oob_score=True)"
   ]
  },
  {
   "cell_type": "code",
   "execution_count": 90,
   "metadata": {
    "execution": {
     "iopub.execute_input": "2021-10-27T16:25:12.427392Z",
     "iopub.status.busy": "2021-10-27T16:25:12.426936Z",
     "iopub.status.idle": "2021-10-27T16:25:22.180340Z",
     "shell.execute_reply": "2021-10-27T16:25:22.179655Z",
     "shell.execute_reply.started": "2021-10-27T16:25:12.427343Z"
    }
   },
   "outputs": [],
   "source": [
    "classifier_rf.fit(X_train[col],y_train)"
   ]
  },
  {
   "cell_type": "code",
   "execution_count": 93,
   "metadata": {
    "execution": {
     "iopub.execute_input": "2021-10-27T16:25:48.848887Z",
     "iopub.status.busy": "2021-10-27T16:25:48.848607Z",
     "iopub.status.idle": "2021-10-27T16:25:49.131099Z",
     "shell.execute_reply": "2021-10-27T16:25:49.130166Z",
     "shell.execute_reply.started": "2021-10-27T16:25:48.848858Z"
    }
   },
   "outputs": [],
   "source": [
    "print_model_metrics(y_test, classifier_rf.predict(X_test[col]),\"Random Forest\")"
   ]
  },
  {
   "cell_type": "markdown",
   "metadata": {},
   "source": [
    "#### Since we are focusing on Precision, we will take it as metrics"
   ]
  },
  {
   "cell_type": "code",
   "execution_count": 94,
   "metadata": {
    "execution": {
     "iopub.execute_input": "2021-10-27T16:25:49.607078Z",
     "iopub.status.busy": "2021-10-27T16:25:49.606390Z",
     "iopub.status.idle": "2021-10-27T16:25:49.634229Z",
     "shell.execute_reply": "2021-10-27T16:25:49.633625Z",
     "shell.execute_reply.started": "2021-10-27T16:25:49.607030Z"
    }
   },
   "outputs": [],
   "source": [
    "imp_df = pd.DataFrame({\n",
    "    \"Varname\": X_train[col].columns,\n",
    "    \"Imp\": classifier_rf.feature_importances_\n",
    "})"
   ]
  },
  {
   "cell_type": "code",
   "execution_count": 95,
   "metadata": {
    "execution": {
     "iopub.execute_input": "2021-10-27T16:25:49.697243Z",
     "iopub.status.busy": "2021-10-27T16:25:49.696361Z",
     "iopub.status.idle": "2021-10-27T16:25:49.710377Z",
     "shell.execute_reply": "2021-10-27T16:25:49.709752Z",
     "shell.execute_reply.started": "2021-10-27T16:25:49.697190Z"
    }
   },
   "outputs": [],
   "source": [
    "imp_df.sort_values(by=\"Imp\", ascending=False)[:10]"
   ]
  },
  {
   "cell_type": "markdown",
   "metadata": {},
   "source": [
    "#### Below are the important predictor variables:\n",
    "Total recharge data,\n",
    "Last recharge date,\n",
    "Last recharge amount,\n",
    "Incoming call minute of usage\n",
    "#### We should monitor the above variables and if there is any descrease in the values, we should provide offer to those users"
   ]
  },
  {
   "cell_type": "code",
   "execution_count": null,
   "metadata": {},
   "outputs": [],
   "source": []
  }
 ],
 "metadata": {
  "kernelspec": {
   "display_name": "Python 3 (ipykernel)",
   "language": "python",
   "name": "python3"
  },
  "language_info": {
   "codemirror_mode": {
    "name": "ipython",
    "version": 3
   },
   "file_extension": ".py",
   "mimetype": "text/x-python",
   "name": "python",
   "nbconvert_exporter": "python",
   "pygments_lexer": "ipython3",
   "version": "3.9.9"
  }
 },
 "nbformat": 4,
 "nbformat_minor": 4
}
